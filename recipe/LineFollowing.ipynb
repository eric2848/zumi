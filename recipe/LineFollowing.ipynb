{
 "cells": [
  {
   "cell_type": "markdown",
   "metadata": {},
   "source": [
    "Zumi will detect the current white color when the 'start_line_follower()' funtion starts.\n",
    "Make sure put the zumi on the white line before run this code."
   ]
  },
  {
   "cell_type": "code",
   "execution_count": null,
   "metadata": {
    "scrolled": true
   },
   "outputs": [],
   "source": [
    "import sys\n",
    "sys.path.insert(0,'/home/pi/zumi/lib')\n",
    "\n",
    "import Engine as engine\n",
    "import Infrared as infrared\n",
    "import time\n",
    "\n",
    "# Use time.sleep(numberOfSeconds) to sleep Zumi for 2 seconds\n",
    "time.sleep(5)\n",
    "\n",
    "\n",
    "# Use the Engine to start line following\n",
    "engine.start_line_follower()\n",
    "\n",
    "while(1):\n",
    "    print(infrared.get_front_distance())\n",
    "    print(str(time.time()-wallTime))\n",
    "    if infrared.get_front_distance() < 525:\n",
    "        engine.stop()\n",
    "        wallTime=time.time()\n",
    "        while(1):\n",
    "            if time.time()-wallTime>5:\n",
    "                break\n",
    "        if infrared.get_front_distance() <525:  \n",
    "            engine.turn_right()\n",
    "            time.sleep(0.8)\n",
    "        engine.start_line_follower()"
   ]
  },
  {
   "cell_type": "code",
   "execution_count": null,
   "metadata": {},
   "outputs": [],
   "source": []
  },
  {
   "cell_type": "code",
   "execution_count": null,
   "metadata": {},
   "outputs": [],
   "source": []
  },
  {
   "cell_type": "code",
   "execution_count": null,
   "metadata": {},
   "outputs": [],
   "source": []
  }
 ],
 "metadata": {
  "kernelspec": {
   "display_name": "Python 3",
   "language": "python",
   "name": "python3"
  },
  "language_info": {
   "codemirror_mode": {
    "name": "ipython",
    "version": 3
   },
   "file_extension": ".py",
   "mimetype": "text/x-python",
   "name": "python",
   "nbconvert_exporter": "python",
   "pygments_lexer": "ipython3",
   "version": "3.5.3"
  }
 },
 "nbformat": 4,
 "nbformat_minor": 2
}
